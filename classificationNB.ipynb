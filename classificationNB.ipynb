{
 "cells": [
  {
   "cell_type": "code",
   "execution_count": 1,
   "metadata": {},
   "outputs": [],
   "source": [
    "import pandas as pd\n",
    "import numpy as np\n",
    "import matplotlib.pyplot as plt\n",
    "from sklearn.naive_bayes import GaussianNB\n",
    "from sklearn.model_selection import train_test_split\n",
    "from sklearn.metrics import confusion_matrix"
   ]
  },
  {
   "cell_type": "code",
   "execution_count": 2,
   "metadata": {},
   "outputs": [],
   "source": [
    "df = pd.read_csv('drug_sequences_target.csv')\n",
    "# random datafram\n",
    "df = df.sample(frac=1).reset_index(drop=True)"
   ]
  },
  {
   "cell_type": "code",
   "execution_count": 3,
   "metadata": {},
   "outputs": [],
   "source": [
    "# hapus data NaN yang ada di kolom target\n",
    "df = df.dropna(subset=['target'])"
   ]
  },
  {
   "cell_type": "code",
   "execution_count": 4,
   "metadata": {},
   "outputs": [
    {
     "data": {
      "text/html": [
       "<div>\n",
       "<style scoped>\n",
       "    .dataframe tbody tr th:only-of-type {\n",
       "        vertical-align: middle;\n",
       "    }\n",
       "\n",
       "    .dataframe tbody tr th {\n",
       "        vertical-align: top;\n",
       "    }\n",
       "\n",
       "    .dataframe thead th {\n",
       "        text-align: right;\n",
       "    }\n",
       "</style>\n",
       "<table border=\"1\" class=\"dataframe\">\n",
       "  <thead>\n",
       "    <tr style=\"text-align: right;\">\n",
       "      <th></th>\n",
       "      <th>id</th>\n",
       "      <th>name</th>\n",
       "      <th>description</th>\n",
       "      <th>Number of features</th>\n",
       "      <th>Sequence</th>\n",
       "      <th>target</th>\n",
       "    </tr>\n",
       "  </thead>\n",
       "  <tbody>\n",
       "    <tr>\n",
       "      <th>0</th>\n",
       "      <td>DB00015</td>\n",
       "      <td>drugbank_drug|DB00015</td>\n",
       "      <td>drugbank_drug|DB00015 DB00015 sequence</td>\n",
       "      <td>355</td>\n",
       "      <td>SYQGNSDCYFGNGSAYRGTHSLTESGASCLPWNSMILIGKVYTAQN...</td>\n",
       "      <td>Fibrinogen alpha chain</td>\n",
       "    </tr>\n",
       "    <tr>\n",
       "      <th>1</th>\n",
       "      <td>DB11571</td>\n",
       "      <td>drugbank_drug|DB11571</td>\n",
       "      <td>drugbank_drug|DB11571 sp|P00734|THRB_HUMAN Pro...</td>\n",
       "      <td>622</td>\n",
       "      <td>MAHVRGLQLPGCLALAALCSLVHSQHVFLAPQQARSLLQRVRRANT...</td>\n",
       "      <td>Coagulation factor XIII B chain</td>\n",
       "    </tr>\n",
       "    <tr>\n",
       "      <th>2</th>\n",
       "      <td>DB12688</td>\n",
       "      <td>drugbank_drug|DB12688</td>\n",
       "      <td>drugbank_drug|DB12688 &gt;PE-38 of Moxetumomab pa...</td>\n",
       "      <td>347</td>\n",
       "      <td>PEGGSLAALTAHQACHLPLETFTRHRQPRGWEQLEQCGYPVQRLVA...</td>\n",
       "      <td>Elongation factor 2</td>\n",
       "    </tr>\n",
       "    <tr>\n",
       "      <th>3</th>\n",
       "      <td>DB00032</td>\n",
       "      <td>drugbank_drug|DB00032</td>\n",
       "      <td>drugbank_drug|DB00032 AlphaChain (FSH)</td>\n",
       "      <td>92</td>\n",
       "      <td>APDVQDCPECTLQENPFFSQPGAPILQCMGCCFSRAYPTPLRSKKT...</td>\n",
       "      <td>Follicle-stimulating hormone receptor</td>\n",
       "    </tr>\n",
       "    <tr>\n",
       "      <th>5</th>\n",
       "      <td>DB00039</td>\n",
       "      <td>drugbank_drug|DB00039</td>\n",
       "      <td>drugbank_drug|DB00039 Palifermin sequence</td>\n",
       "      <td>141</td>\n",
       "      <td>MSYDYMEGGDIRVRRLFCRTQWYLRIDKRGKVKGTQEMKNNYNIME...</td>\n",
       "      <td>Fibroblast growth factor receptor 1</td>\n",
       "    </tr>\n",
       "  </tbody>\n",
       "</table>\n",
       "</div>"
      ],
      "text/plain": [
       "        id                   name  \\\n",
       "0  DB00015  drugbank_drug|DB00015   \n",
       "1  DB11571  drugbank_drug|DB11571   \n",
       "2  DB12688  drugbank_drug|DB12688   \n",
       "3  DB00032  drugbank_drug|DB00032   \n",
       "5  DB00039  drugbank_drug|DB00039   \n",
       "\n",
       "                                         description  Number of features  \\\n",
       "0             drugbank_drug|DB00015 DB00015 sequence                 355   \n",
       "1  drugbank_drug|DB11571 sp|P00734|THRB_HUMAN Pro...                 622   \n",
       "2  drugbank_drug|DB12688 >PE-38 of Moxetumomab pa...                 347   \n",
       "3             drugbank_drug|DB00032 AlphaChain (FSH)                  92   \n",
       "5          drugbank_drug|DB00039 Palifermin sequence                 141   \n",
       "\n",
       "                                            Sequence  \\\n",
       "0  SYQGNSDCYFGNGSAYRGTHSLTESGASCLPWNSMILIGKVYTAQN...   \n",
       "1  MAHVRGLQLPGCLALAALCSLVHSQHVFLAPQQARSLLQRVRRANT...   \n",
       "2  PEGGSLAALTAHQACHLPLETFTRHRQPRGWEQLEQCGYPVQRLVA...   \n",
       "3  APDVQDCPECTLQENPFFSQPGAPILQCMGCCFSRAYPTPLRSKKT...   \n",
       "5  MSYDYMEGGDIRVRRLFCRTQWYLRIDKRGKVKGTQEMKNNYNIME...   \n",
       "\n",
       "                                  target  \n",
       "0                 Fibrinogen alpha chain  \n",
       "1        Coagulation factor XIII B chain  \n",
       "2                    Elongation factor 2  \n",
       "3  Follicle-stimulating hormone receptor  \n",
       "5    Fibroblast growth factor receptor 1  "
      ]
     },
     "execution_count": 4,
     "metadata": {},
     "output_type": "execute_result"
    }
   ],
   "source": [
    "df.head()"
   ]
  },
  {
   "cell_type": "code",
   "execution_count": 11,
   "metadata": {},
   "outputs": [
    {
     "data": {
      "text/plain": [
       "id                    object\n",
       "name                  object\n",
       "description           object\n",
       "Number of features     int64\n",
       "Sequence              object\n",
       "target                object\n",
       "dtype: object"
      ]
     },
     "execution_count": 11,
     "metadata": {},
     "output_type": "execute_result"
    }
   ],
   "source": [
    "df.dtypes"
   ]
  },
  {
   "cell_type": "code",
   "execution_count": 12,
   "metadata": {},
   "outputs": [],
   "source": [
    "# Mencari frekuensi setiap nilai target\n",
    "target_counts = df['target'].value_counts()\n",
    "\n",
    "# Membuat dictionary untuk mapping nilai target yang frekuensinya kurang dari atau sama dengan 10\n",
    "target_mapping = {}\n",
    "for target, count in target_counts.items():\n",
    "    if count <= 10:\n",
    "        target_mapping[target] = 'OTHER'\n",
    "\n",
    "# Mengubah nilai target yang frekuensinya kurang dari atau sama dengan 10 dengan nilai 'OTHER'\n",
    "df['target'] = df['target'].apply(lambda x: target_mapping.get(x, x))"
   ]
  },
  {
   "cell_type": "code",
   "execution_count": 13,
   "metadata": {},
   "outputs": [],
   "source": [
    "X = df['Sequence'].values\n",
    "Y = df['target']"
   ]
  },
  {
   "cell_type": "code",
   "execution_count": 19,
   "metadata": {},
   "outputs": [
    {
     "data": {
      "text/plain": [
       "array(['OTHER', 'Insulin-like growth factor 1 receptor',\n",
       "       'Interferon alpha/beta receptor 1', 'B-lymphocyte antigen CD20',\n",
       "       'Low affinity immunoglobulin gamma Fc region receptor II-c',\n",
       "       'Interleukin-23 subunit alpha'], dtype=object)"
      ]
     },
     "execution_count": 19,
     "metadata": {},
     "output_type": "execute_result"
    }
   ],
   "source": [
    "Y.unique()"
   ]
  },
  {
   "cell_type": "code",
   "execution_count": 15,
   "metadata": {},
   "outputs": [],
   "source": [
    "# extract features from sequences using count amino acids percentage in each sequence\n",
    "def extract_features(X):\n",
    "    features = []\n",
    "    for sequence in X:\n",
    "        feature = []\n",
    "        for amino_acid in 'ACDEFGHIKLMNPQRSTVWY':\n",
    "            feature.append(sequence.count(amino_acid) / len(sequence))\n",
    "        features.append(feature)\n",
    "    return features"
   ]
  },
  {
   "cell_type": "code",
   "execution_count": 16,
   "metadata": {},
   "outputs": [],
   "source": [
    "# extract features from sequences\n",
    "X = extract_features(X)"
   ]
  },
  {
   "cell_type": "code",
   "execution_count": 17,
   "metadata": {},
   "outputs": [
    {
     "data": {
      "text/html": [
       "<style>#sk-container-id-1 {color: black;background-color: white;}#sk-container-id-1 pre{padding: 0;}#sk-container-id-1 div.sk-toggleable {background-color: white;}#sk-container-id-1 label.sk-toggleable__label {cursor: pointer;display: block;width: 100%;margin-bottom: 0;padding: 0.3em;box-sizing: border-box;text-align: center;}#sk-container-id-1 label.sk-toggleable__label-arrow:before {content: \"▸\";float: left;margin-right: 0.25em;color: #696969;}#sk-container-id-1 label.sk-toggleable__label-arrow:hover:before {color: black;}#sk-container-id-1 div.sk-estimator:hover label.sk-toggleable__label-arrow:before {color: black;}#sk-container-id-1 div.sk-toggleable__content {max-height: 0;max-width: 0;overflow: hidden;text-align: left;background-color: #f0f8ff;}#sk-container-id-1 div.sk-toggleable__content pre {margin: 0.2em;color: black;border-radius: 0.25em;background-color: #f0f8ff;}#sk-container-id-1 input.sk-toggleable__control:checked~div.sk-toggleable__content {max-height: 200px;max-width: 100%;overflow: auto;}#sk-container-id-1 input.sk-toggleable__control:checked~label.sk-toggleable__label-arrow:before {content: \"▾\";}#sk-container-id-1 div.sk-estimator input.sk-toggleable__control:checked~label.sk-toggleable__label {background-color: #d4ebff;}#sk-container-id-1 div.sk-label input.sk-toggleable__control:checked~label.sk-toggleable__label {background-color: #d4ebff;}#sk-container-id-1 input.sk-hidden--visually {border: 0;clip: rect(1px 1px 1px 1px);clip: rect(1px, 1px, 1px, 1px);height: 1px;margin: -1px;overflow: hidden;padding: 0;position: absolute;width: 1px;}#sk-container-id-1 div.sk-estimator {font-family: monospace;background-color: #f0f8ff;border: 1px dotted black;border-radius: 0.25em;box-sizing: border-box;margin-bottom: 0.5em;}#sk-container-id-1 div.sk-estimator:hover {background-color: #d4ebff;}#sk-container-id-1 div.sk-parallel-item::after {content: \"\";width: 100%;border-bottom: 1px solid gray;flex-grow: 1;}#sk-container-id-1 div.sk-label:hover label.sk-toggleable__label {background-color: #d4ebff;}#sk-container-id-1 div.sk-serial::before {content: \"\";position: absolute;border-left: 1px solid gray;box-sizing: border-box;top: 0;bottom: 0;left: 50%;z-index: 0;}#sk-container-id-1 div.sk-serial {display: flex;flex-direction: column;align-items: center;background-color: white;padding-right: 0.2em;padding-left: 0.2em;position: relative;}#sk-container-id-1 div.sk-item {position: relative;z-index: 1;}#sk-container-id-1 div.sk-parallel {display: flex;align-items: stretch;justify-content: center;background-color: white;position: relative;}#sk-container-id-1 div.sk-item::before, #sk-container-id-1 div.sk-parallel-item::before {content: \"\";position: absolute;border-left: 1px solid gray;box-sizing: border-box;top: 0;bottom: 0;left: 50%;z-index: -1;}#sk-container-id-1 div.sk-parallel-item {display: flex;flex-direction: column;z-index: 1;position: relative;background-color: white;}#sk-container-id-1 div.sk-parallel-item:first-child::after {align-self: flex-end;width: 50%;}#sk-container-id-1 div.sk-parallel-item:last-child::after {align-self: flex-start;width: 50%;}#sk-container-id-1 div.sk-parallel-item:only-child::after {width: 0;}#sk-container-id-1 div.sk-dashed-wrapped {border: 1px dashed gray;margin: 0 0.4em 0.5em 0.4em;box-sizing: border-box;padding-bottom: 0.4em;background-color: white;}#sk-container-id-1 div.sk-label label {font-family: monospace;font-weight: bold;display: inline-block;line-height: 1.2em;}#sk-container-id-1 div.sk-label-container {text-align: center;}#sk-container-id-1 div.sk-container {/* jupyter's `normalize.less` sets `[hidden] { display: none; }` but bootstrap.min.css set `[hidden] { display: none !important; }` so we also need the `!important` here to be able to override the default hidden behavior on the sphinx rendered scikit-learn.org. See: https://github.com/scikit-learn/scikit-learn/issues/21755 */display: inline-block !important;position: relative;}#sk-container-id-1 div.sk-text-repr-fallback {display: none;}</style><div id=\"sk-container-id-1\" class=\"sk-top-container\"><div class=\"sk-text-repr-fallback\"><pre>GaussianNB()</pre><b>In a Jupyter environment, please rerun this cell to show the HTML representation or trust the notebook. <br />On GitHub, the HTML representation is unable to render, please try loading this page with nbviewer.org.</b></div><div class=\"sk-container\" hidden><div class=\"sk-item\"><div class=\"sk-estimator sk-toggleable\"><input class=\"sk-toggleable__control sk-hidden--visually\" id=\"sk-estimator-id-1\" type=\"checkbox\" checked><label for=\"sk-estimator-id-1\" class=\"sk-toggleable__label sk-toggleable__label-arrow\">GaussianNB</label><div class=\"sk-toggleable__content\"><pre>GaussianNB()</pre></div></div></div></div></div>"
      ],
      "text/plain": [
       "GaussianNB()"
      ]
     },
     "execution_count": 17,
     "metadata": {},
     "output_type": "execute_result"
    }
   ],
   "source": [
    "# train model\n",
    "model = GaussianNB()\n",
    "model.fit(X, Y)"
   ]
  },
  {
   "cell_type": "code",
   "execution_count": 18,
   "metadata": {},
   "outputs": [],
   "source": [
    "import pickle\n",
    "\n",
    "# save model\n",
    "pickle.dump(model, open('NBdrug.pkl','wb'))"
   ]
  }
 ],
 "metadata": {
  "kernelspec": {
   "display_name": "Python 3",
   "language": "python",
   "name": "python3"
  },
  "language_info": {
   "codemirror_mode": {
    "name": "ipython",
    "version": 3
   },
   "file_extension": ".py",
   "mimetype": "text/x-python",
   "name": "python",
   "nbconvert_exporter": "python",
   "pygments_lexer": "ipython3",
   "version": "3.9.2"
  },
  "orig_nbformat": 4,
  "vscode": {
   "interpreter": {
    "hash": "916dbcbb3f70747c44a77c7bcd40155683ae19c65e1c03b4aa3499c5328201f1"
   }
  }
 },
 "nbformat": 4,
 "nbformat_minor": 2
}
